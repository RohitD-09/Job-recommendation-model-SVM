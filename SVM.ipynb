{
  "nbformat": 4,
  "nbformat_minor": 0,
  "metadata": {
    "colab": {
      "provenance": []
    },
    "kernelspec": {
      "name": "python3",
      "display_name": "Python 3"
    },
    "language_info": {
      "name": "python"
    }
  },
  "cells": [
    {
      "cell_type": "code",
      "execution_count": 17,
      "metadata": {
        "id": "KeqfoAa0r3bb"
      },
      "outputs": [],
      "source": [
        "import pandas as pd\n",
        "from sklearn.model_selection import train_test_split\n",
        "from sklearn.feature_extraction.text import CountVectorizer\n",
        "from sklearn.svm import LinearSVC"
      ]
    },
    {
      "cell_type": "code",
      "source": [
        "data = pd.read_csv('naukri.csv')"
      ],
      "metadata": {
        "id": "q5nzQq93sMus"
      },
      "execution_count": 2,
      "outputs": []
    },
    {
      "cell_type": "code",
      "source": [
        "data = data.dropna()"
      ],
      "metadata": {
        "id": "XmzKhdd6smyz"
      },
      "execution_count": 3,
      "outputs": []
    },
    {
      "cell_type": "code",
      "source": [
        "data.reset_index(drop=True)"
      ],
      "metadata": {
        "colab": {
          "base_uri": "https://localhost:8080/",
          "height": 1000
        },
        "id": "NgBf8aAOsrGN",
        "outputId": "6d52a420-c9af-4eef-b2c7-1657d8b85f67"
      },
      "execution_count": 4,
      "outputs": [
        {
          "output_type": "execute_result",
          "data": {
            "text/plain": [
              "                                Uniq Id  \\\n",
              "0      9be62c49a0b7ebe982a4af1edaa7bc5f   \n",
              "1      3c52d436e39f596b22519da2612f6a56   \n",
              "2      ffad8a2396c60be2bf6d0e2ff47c58d4   \n",
              "3      7b921f51b5c2fb862b4a5f7a54c37f75   \n",
              "4      2d8b7d44e138a54d5dc841163138de50   \n",
              "...                                 ...   \n",
              "28362  3510f2146b514f112eaa9706a16b3900   \n",
              "28363  4af8c56f5b4c535b1974065003f2d548   \n",
              "28364  43d5b806b26ed99d3ebfc8f366b4cdd1   \n",
              "28365  8bc87d14cf56564f16b6d4bae80180be   \n",
              "28366  9c7045d111814a6f39fe461eab2b0bf8   \n",
              "\n",
              "                                               Job Title  \\\n",
              "0                                  Digital Media Planner   \n",
              "1                               Online Bidding Executive   \n",
              "2       Trainee Research/ Research Executive- Hi- Tec...   \n",
              "3                                      Technical Support   \n",
              "4                      Software Test Engineer -hyderabad   \n",
              "...                                                  ...   \n",
              "28362                              MTS-Software-Engineer   \n",
              "28363                        Client Relationship Manager   \n",
              "28364                                   Assoc. Prof.- CS   \n",
              "28365         Application/Cyber Security Specialist-Pune   \n",
              "28366                         Press Release Writer - SEO   \n",
              "\n",
              "                         Job Salary Job Experience Required  \\\n",
              "0       Not Disclosed by Recruiter               5 - 10 yrs   \n",
              "1       Not Disclosed by Recruiter                2 - 5 yrs   \n",
              "2       Not Disclosed by Recruiter                0 - 1 yrs   \n",
              "3          2,00,000 - 4,00,000 PA.                0 - 5 yrs   \n",
              "4       Not Disclosed by Recruiter                2 - 5 yrs   \n",
              "...                             ...                     ...   \n",
              "28362   Not Disclosed by Recruiter               9 - 12 yrs   \n",
              "28363   Not Disclosed by Recruiter                1 - 5 yrs   \n",
              "28364   Not Disclosed by Recruiter                4 - 6 yrs   \n",
              "28365   Not Disclosed by Recruiter               5 - 10 yrs   \n",
              "28366   Not Disclosed by Recruiter                2 - 7 yrs   \n",
              "\n",
              "                                              Key Skills   Location  \\\n",
              "0                          Media Planning| Digital Media     Mumbai   \n",
              "1       pre sales| closing| software knowledge| clien...  Pune,Pune   \n",
              "2       Computer science| Fabrication| Quality check|...    Gurgaon   \n",
              "3                                      Technical Support     Mumbai   \n",
              "4       manual testing| test engineering| test cases|...  Hyderabad   \n",
              "...                                                  ...        ...   \n",
              "28362   Graphics| C++| USB| Project management| SOC| ...  Bengaluru   \n",
              "28363   Service delivery| LMS| CRE| Integration servi...    Chennai   \n",
              "28364      Counselor| Mentor| Trainer| Advisor| Teaching     Howrah   \n",
              "28365   Security Analysis| Software Development Life ...       Pune   \n",
              "28366   Press release| Public relations| Publishing| ...  Bengaluru   \n",
              "\n",
              "                                    Industry  \\\n",
              "0      Advertising, PR, MR, Event Management   \n",
              "1             IT-Software, Software Services   \n",
              "2                      Recruitment, Staffing   \n",
              "3             IT-Software, Software Services   \n",
              "4             IT-Software, Software Services   \n",
              "...                                      ...   \n",
              "28362            Semiconductors, Electronics   \n",
              "28363          Education, Teaching, Training   \n",
              "28364          Education, Teaching, Training   \n",
              "28365         IT-Software, Software Services   \n",
              "28366         IT-Software, Software Services   \n",
              "\n",
              "                                             Role  \n",
              "0                Media Planning Executive/Manager  \n",
              "1                         Sales Executive/Officer  \n",
              "2                                   R&D Executive  \n",
              "3                      Technical Support Engineer  \n",
              "4                                Testing Engineer  \n",
              "...                                           ...  \n",
              "28362                          Software Developer  \n",
              "28363                          Operations Manager  \n",
              "28364                          Lecturer/Professor  \n",
              "28365                          Software Developer  \n",
              "28366  Search Engine Optimisation /SEO Specialist  \n",
              "\n",
              "[28367 rows x 8 columns]"
            ],
            "text/html": [
              "\n",
              "  <div id=\"df-41bd0466-d002-469a-8652-e29efea36123\">\n",
              "    <div class=\"colab-df-container\">\n",
              "      <div>\n",
              "<style scoped>\n",
              "    .dataframe tbody tr th:only-of-type {\n",
              "        vertical-align: middle;\n",
              "    }\n",
              "\n",
              "    .dataframe tbody tr th {\n",
              "        vertical-align: top;\n",
              "    }\n",
              "\n",
              "    .dataframe thead th {\n",
              "        text-align: right;\n",
              "    }\n",
              "</style>\n",
              "<table border=\"1\" class=\"dataframe\">\n",
              "  <thead>\n",
              "    <tr style=\"text-align: right;\">\n",
              "      <th></th>\n",
              "      <th>Uniq Id</th>\n",
              "      <th>Job Title</th>\n",
              "      <th>Job Salary</th>\n",
              "      <th>Job Experience Required</th>\n",
              "      <th>Key Skills</th>\n",
              "      <th>Location</th>\n",
              "      <th>Industry</th>\n",
              "      <th>Role</th>\n",
              "    </tr>\n",
              "  </thead>\n",
              "  <tbody>\n",
              "    <tr>\n",
              "      <th>0</th>\n",
              "      <td>9be62c49a0b7ebe982a4af1edaa7bc5f</td>\n",
              "      <td>Digital Media Planner</td>\n",
              "      <td>Not Disclosed by Recruiter</td>\n",
              "      <td>5 - 10 yrs</td>\n",
              "      <td>Media Planning| Digital Media</td>\n",
              "      <td>Mumbai</td>\n",
              "      <td>Advertising, PR, MR, Event Management</td>\n",
              "      <td>Media Planning Executive/Manager</td>\n",
              "    </tr>\n",
              "    <tr>\n",
              "      <th>1</th>\n",
              "      <td>3c52d436e39f596b22519da2612f6a56</td>\n",
              "      <td>Online Bidding Executive</td>\n",
              "      <td>Not Disclosed by Recruiter</td>\n",
              "      <td>2 - 5 yrs</td>\n",
              "      <td>pre sales| closing| software knowledge| clien...</td>\n",
              "      <td>Pune,Pune</td>\n",
              "      <td>IT-Software, Software Services</td>\n",
              "      <td>Sales Executive/Officer</td>\n",
              "    </tr>\n",
              "    <tr>\n",
              "      <th>2</th>\n",
              "      <td>ffad8a2396c60be2bf6d0e2ff47c58d4</td>\n",
              "      <td>Trainee Research/ Research Executive- Hi- Tec...</td>\n",
              "      <td>Not Disclosed by Recruiter</td>\n",
              "      <td>0 - 1 yrs</td>\n",
              "      <td>Computer science| Fabrication| Quality check|...</td>\n",
              "      <td>Gurgaon</td>\n",
              "      <td>Recruitment, Staffing</td>\n",
              "      <td>R&amp;D Executive</td>\n",
              "    </tr>\n",
              "    <tr>\n",
              "      <th>3</th>\n",
              "      <td>7b921f51b5c2fb862b4a5f7a54c37f75</td>\n",
              "      <td>Technical Support</td>\n",
              "      <td>2,00,000 - 4,00,000 PA.</td>\n",
              "      <td>0 - 5 yrs</td>\n",
              "      <td>Technical Support</td>\n",
              "      <td>Mumbai</td>\n",
              "      <td>IT-Software, Software Services</td>\n",
              "      <td>Technical Support Engineer</td>\n",
              "    </tr>\n",
              "    <tr>\n",
              "      <th>4</th>\n",
              "      <td>2d8b7d44e138a54d5dc841163138de50</td>\n",
              "      <td>Software Test Engineer -hyderabad</td>\n",
              "      <td>Not Disclosed by Recruiter</td>\n",
              "      <td>2 - 5 yrs</td>\n",
              "      <td>manual testing| test engineering| test cases|...</td>\n",
              "      <td>Hyderabad</td>\n",
              "      <td>IT-Software, Software Services</td>\n",
              "      <td>Testing Engineer</td>\n",
              "    </tr>\n",
              "    <tr>\n",
              "      <th>...</th>\n",
              "      <td>...</td>\n",
              "      <td>...</td>\n",
              "      <td>...</td>\n",
              "      <td>...</td>\n",
              "      <td>...</td>\n",
              "      <td>...</td>\n",
              "      <td>...</td>\n",
              "      <td>...</td>\n",
              "    </tr>\n",
              "    <tr>\n",
              "      <th>28362</th>\n",
              "      <td>3510f2146b514f112eaa9706a16b3900</td>\n",
              "      <td>MTS-Software-Engineer</td>\n",
              "      <td>Not Disclosed by Recruiter</td>\n",
              "      <td>9 - 12 yrs</td>\n",
              "      <td>Graphics| C++| USB| Project management| SOC| ...</td>\n",
              "      <td>Bengaluru</td>\n",
              "      <td>Semiconductors, Electronics</td>\n",
              "      <td>Software Developer</td>\n",
              "    </tr>\n",
              "    <tr>\n",
              "      <th>28363</th>\n",
              "      <td>4af8c56f5b4c535b1974065003f2d548</td>\n",
              "      <td>Client Relationship Manager</td>\n",
              "      <td>Not Disclosed by Recruiter</td>\n",
              "      <td>1 - 5 yrs</td>\n",
              "      <td>Service delivery| LMS| CRE| Integration servi...</td>\n",
              "      <td>Chennai</td>\n",
              "      <td>Education, Teaching, Training</td>\n",
              "      <td>Operations Manager</td>\n",
              "    </tr>\n",
              "    <tr>\n",
              "      <th>28364</th>\n",
              "      <td>43d5b806b26ed99d3ebfc8f366b4cdd1</td>\n",
              "      <td>Assoc. Prof.- CS</td>\n",
              "      <td>Not Disclosed by Recruiter</td>\n",
              "      <td>4 - 6 yrs</td>\n",
              "      <td>Counselor| Mentor| Trainer| Advisor| Teaching</td>\n",
              "      <td>Howrah</td>\n",
              "      <td>Education, Teaching, Training</td>\n",
              "      <td>Lecturer/Professor</td>\n",
              "    </tr>\n",
              "    <tr>\n",
              "      <th>28365</th>\n",
              "      <td>8bc87d14cf56564f16b6d4bae80180be</td>\n",
              "      <td>Application/Cyber Security Specialist-Pune</td>\n",
              "      <td>Not Disclosed by Recruiter</td>\n",
              "      <td>5 - 10 yrs</td>\n",
              "      <td>Security Analysis| Software Development Life ...</td>\n",
              "      <td>Pune</td>\n",
              "      <td>IT-Software, Software Services</td>\n",
              "      <td>Software Developer</td>\n",
              "    </tr>\n",
              "    <tr>\n",
              "      <th>28366</th>\n",
              "      <td>9c7045d111814a6f39fe461eab2b0bf8</td>\n",
              "      <td>Press Release Writer - SEO</td>\n",
              "      <td>Not Disclosed by Recruiter</td>\n",
              "      <td>2 - 7 yrs</td>\n",
              "      <td>Press release| Public relations| Publishing| ...</td>\n",
              "      <td>Bengaluru</td>\n",
              "      <td>IT-Software, Software Services</td>\n",
              "      <td>Search Engine Optimisation /SEO Specialist</td>\n",
              "    </tr>\n",
              "  </tbody>\n",
              "</table>\n",
              "<p>28367 rows × 8 columns</p>\n",
              "</div>\n",
              "      <button class=\"colab-df-convert\" onclick=\"convertToInteractive('df-41bd0466-d002-469a-8652-e29efea36123')\"\n",
              "              title=\"Convert this dataframe to an interactive table.\"\n",
              "              style=\"display:none;\">\n",
              "        \n",
              "  <svg xmlns=\"http://www.w3.org/2000/svg\" height=\"24px\"viewBox=\"0 0 24 24\"\n",
              "       width=\"24px\">\n",
              "    <path d=\"M0 0h24v24H0V0z\" fill=\"none\"/>\n",
              "    <path d=\"M18.56 5.44l.94 2.06.94-2.06 2.06-.94-2.06-.94-.94-2.06-.94 2.06-2.06.94zm-11 1L8.5 8.5l.94-2.06 2.06-.94-2.06-.94L8.5 2.5l-.94 2.06-2.06.94zm10 10l.94 2.06.94-2.06 2.06-.94-2.06-.94-.94-2.06-.94 2.06-2.06.94z\"/><path d=\"M17.41 7.96l-1.37-1.37c-.4-.4-.92-.59-1.43-.59-.52 0-1.04.2-1.43.59L10.3 9.45l-7.72 7.72c-.78.78-.78 2.05 0 2.83L4 21.41c.39.39.9.59 1.41.59.51 0 1.02-.2 1.41-.59l7.78-7.78 2.81-2.81c.8-.78.8-2.07 0-2.86zM5.41 20L4 18.59l7.72-7.72 1.47 1.35L5.41 20z\"/>\n",
              "  </svg>\n",
              "      </button>\n",
              "      \n",
              "  <style>\n",
              "    .colab-df-container {\n",
              "      display:flex;\n",
              "      flex-wrap:wrap;\n",
              "      gap: 12px;\n",
              "    }\n",
              "\n",
              "    .colab-df-convert {\n",
              "      background-color: #E8F0FE;\n",
              "      border: none;\n",
              "      border-radius: 50%;\n",
              "      cursor: pointer;\n",
              "      display: none;\n",
              "      fill: #1967D2;\n",
              "      height: 32px;\n",
              "      padding: 0 0 0 0;\n",
              "      width: 32px;\n",
              "    }\n",
              "\n",
              "    .colab-df-convert:hover {\n",
              "      background-color: #E2EBFA;\n",
              "      box-shadow: 0px 1px 2px rgba(60, 64, 67, 0.3), 0px 1px 3px 1px rgba(60, 64, 67, 0.15);\n",
              "      fill: #174EA6;\n",
              "    }\n",
              "\n",
              "    [theme=dark] .colab-df-convert {\n",
              "      background-color: #3B4455;\n",
              "      fill: #D2E3FC;\n",
              "    }\n",
              "\n",
              "    [theme=dark] .colab-df-convert:hover {\n",
              "      background-color: #434B5C;\n",
              "      box-shadow: 0px 1px 3px 1px rgba(0, 0, 0, 0.15);\n",
              "      filter: drop-shadow(0px 1px 2px rgba(0, 0, 0, 0.3));\n",
              "      fill: #FFFFFF;\n",
              "    }\n",
              "  </style>\n",
              "\n",
              "      <script>\n",
              "        const buttonEl =\n",
              "          document.querySelector('#df-41bd0466-d002-469a-8652-e29efea36123 button.colab-df-convert');\n",
              "        buttonEl.style.display =\n",
              "          google.colab.kernel.accessAllowed ? 'block' : 'none';\n",
              "\n",
              "        async function convertToInteractive(key) {\n",
              "          const element = document.querySelector('#df-41bd0466-d002-469a-8652-e29efea36123');\n",
              "          const dataTable =\n",
              "            await google.colab.kernel.invokeFunction('convertToInteractive',\n",
              "                                                     [key], {});\n",
              "          if (!dataTable) return;\n",
              "\n",
              "          const docLinkHtml = 'Like what you see? Visit the ' +\n",
              "            '<a target=\"_blank\" href=https://colab.research.google.com/notebooks/data_table.ipynb>data table notebook</a>'\n",
              "            + ' to learn more about interactive tables.';\n",
              "          element.innerHTML = '';\n",
              "          dataTable['output_type'] = 'display_data';\n",
              "          await google.colab.output.renderOutput(dataTable, element);\n",
              "          const docLink = document.createElement('div');\n",
              "          docLink.innerHTML = docLinkHtml;\n",
              "          element.appendChild(docLink);\n",
              "        }\n",
              "      </script>\n",
              "    </div>\n",
              "  </div>\n",
              "  "
            ]
          },
          "metadata": {},
          "execution_count": 4
        }
      ]
    },
    {
      "cell_type": "code",
      "source": [
        "data['Job Title'] = data['Job Title'].fillna('')"
      ],
      "metadata": {
        "id": "dzRQ2HUxsvwY"
      },
      "execution_count": 5,
      "outputs": []
    },
    {
      "cell_type": "code",
      "source": [
        "data['Job Experience Required'] = data['Job Experience Required'].fillna('')"
      ],
      "metadata": {
        "id": "Di_rV0DTszZ0"
      },
      "execution_count": 6,
      "outputs": []
    },
    {
      "cell_type": "code",
      "source": [
        "data['Key Skills'] = data['Key Skills'].fillna('')"
      ],
      "metadata": {
        "id": "dQuoneAus1SQ"
      },
      "execution_count": 8,
      "outputs": []
    },
    {
      "cell_type": "code",
      "source": [
        "data['Location'] = data['Location'].fillna('')"
      ],
      "metadata": {
        "id": "RPQxTBIfs-hR"
      },
      "execution_count": 9,
      "outputs": []
    },
    {
      "cell_type": "code",
      "source": [
        "data['Industry'] = data['Industry'].fillna('')"
      ],
      "metadata": {
        "id": "Pw7ljl9gtE15"
      },
      "execution_count": 12,
      "outputs": []
    },
    {
      "cell_type": "code",
      "source": [
        "data['Role'] = data['Role'].fillna('')"
      ],
      "metadata": {
        "id": "DS4gpkjytJmB"
      },
      "execution_count": 11,
      "outputs": []
    },
    {
      "cell_type": "code",
      "source": [
        "import re\n",
        "data['Key Skills'] = data['Key Skills'].apply(lambda x: re.sub('[^a-zA-Z0-9\\s]', '', x)) # remove special characters\n",
        "data['Location'] = data['Location'].apply(lambda x: re.sub('[^a-zA-Z0-9\\s]', '', x)) # remove special characters\n",
        "data['Industry'] = data['Industry'].apply(lambda x: re.sub('[^a-zA-Z0-9\\s]', '', x))\n",
        "data['Role'] = data['Role'].apply(lambda x: re.sub('[^a-zA-Z0-9\\s]', '', x))\n",
        "\n",
        "data['Key Skills'] = data['Key Skills'].apply(lambda x: x.lower()) # convert to lowercase\n",
        "data['Location'] = data['Location'].apply(lambda x: x.lower())\n",
        "data['Industry'] = data['Industry'].apply(lambda x: x.lower())\n",
        "data['Role'] = data['Role'].apply(lambda x: x.lower())"
      ],
      "metadata": {
        "id": "6d1VcmiMtNSM"
      },
      "execution_count": 13,
      "outputs": []
    },
    {
      "cell_type": "code",
      "source": [
        "X = data[['Key Skills','Location', 'Industry', 'Role']]\n",
        "y = data['Job Title']\n"
      ],
      "metadata": {
        "id": "AK9LDxYLtZVF"
      },
      "execution_count": 23,
      "outputs": []
    },
    {
      "cell_type": "code",
      "source": [
        "vectorizer = TfidfVectorizer(stop_words='english', max_features=100)\n",
        "X_tfidf = vectorizer.fit_transform(X.apply(lambda x: ' '.join(x), axis=1))"
      ],
      "metadata": {
        "id": "jCnl0bSqx76h"
      },
      "execution_count": 32,
      "outputs": []
    },
    {
      "cell_type": "code",
      "source": [
        "X_train, X_test, y_train, y_test = train_test_split(X_tfidf, y, test_size=0.2, random_state=42)"
      ],
      "metadata": {
        "id": "KE15-rdayAvp"
      },
      "execution_count": 33,
      "outputs": []
    },
    {
      "cell_type": "code",
      "source": [
        "svm = LinearSVC(random_state=42)"
      ],
      "metadata": {
        "id": "VkEx4xUhw89I"
      },
      "execution_count": 30,
      "outputs": []
    },
    {
      "cell_type": "code",
      "source": [
        "svm.fit(X_train, y_train)"
      ],
      "metadata": {
        "colab": {
          "base_uri": "https://localhost:8080/"
        },
        "id": "Lsbb3YWFxkE5",
        "outputId": "42a64096-dcf9-4423-bbc3-b3c23cef7d9b"
      },
      "execution_count": 34,
      "outputs": [
        {
          "output_type": "execute_result",
          "data": {
            "text/plain": [
              "LinearSVC(random_state=42)"
            ]
          },
          "metadata": {},
          "execution_count": 34
        }
      ]
    },
    {
      "cell_type": "code",
      "source": [
        "y_pred = svm.predict(X_test)"
      ],
      "metadata": {
        "id": "ZPi1xQF1xyyd"
      },
      "execution_count": 35,
      "outputs": []
    },
    {
      "cell_type": "code",
      "source": [
        "accuracy = svm.score(X_test, y_test)\n",
        "print('Accuracy:', accuracy)"
      ],
      "metadata": {
        "colab": {
          "base_uri": "https://localhost:8080/"
        },
        "id": "xLYbveZF06jd",
        "outputId": "5b9b1423-2a8a-45ce-ecf2-1ff870b8c1cf"
      },
      "execution_count": 36,
      "outputs": [
        {
          "output_type": "stream",
          "name": "stdout",
          "text": [
            "Accuracy: 0.038597109622841026\n"
          ]
        }
      ]
    },
    {
      "cell_type": "code",
      "source": [
        "from sklearn.metrics import f1_score\n",
        "f1score = f1_score(y_test, y_pred, average='weighted')\n",
        "print(f'F1-score: {f1score}')"
      ],
      "metadata": {
        "colab": {
          "base_uri": "https://localhost:8080/"
        },
        "id": "X8PPhUU00_BN",
        "outputId": "2a2ff2e2-7277-47ae-ec18-6fd26b9921aa"
      },
      "execution_count": 37,
      "outputs": [
        {
          "output_type": "stream",
          "name": "stdout",
          "text": [
            "F1-score: 0.019788087356212812\n"
          ]
        }
      ]
    },
    {
      "cell_type": "code",
      "source": [
        "new_soundbite = pd.DataFrame({'Key Skills': ['media planning'],\n",
        "                              'Location': ['mumbai'],\n",
        "                              'Industry': ['advertising'],\n",
        "                              'Role': ['manager']})\n",
        "new_soundbite_tfidf = vectorizer.transform(new_soundbite.apply(lambda x: ' '.join(x), axis=1))\n",
        "predictions = svm.decision_function(new_soundbite_tfidf)[0]\n",
        "top_5_careers = predictions.argsort()[::-1][:5]\n",
        "print('Top 5 careers:', [svm.classes_[i] for i in top_5_careers])"
      ],
      "metadata": {
        "colab": {
          "base_uri": "https://localhost:8080/"
        },
        "id": "W-hiVf__1cJ3",
        "outputId": "11e958f5-f24c-4d60-ca69-af49e9bc01f9"
      },
      "execution_count": 41,
      "outputs": [
        {
          "output_type": "stream",
          "name": "stdout",
          "text": [
            "Top 5 careers: [' Production Manager', ' INTERN', ' Digital Media Planner', ' Social Media Manager (Digital Media)', ' Product/Brand Manager']\n"
          ]
        }
      ]
    },
    {
      "cell_type": "code",
      "source": [],
      "metadata": {
        "id": "nDQXYkBI1hcp"
      },
      "execution_count": null,
      "outputs": []
    }
  ]
}